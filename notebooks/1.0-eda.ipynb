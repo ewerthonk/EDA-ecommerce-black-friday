{
 "cells": [
  {
   "cell_type": "markdown",
   "id": "5921921d",
   "metadata": {},
   "source": [
    "## 🧰 Preparing tool box"
   ]
  },
  {
   "cell_type": "code",
   "execution_count": 44,
   "id": "b1fc742e",
   "metadata": {
    "slideshow": {
     "slide_type": "fragment"
    }
   },
   "outputs": [],
   "source": [
    "import pandas as pd\n",
    "import numpy as np\n",
    "import seaborn as sns\n",
    "import matplotlib.pyplot as plt\n",
    "\n",
    "%matplotlib inline"
   ]
  },
  {
   "cell_type": "markdown",
   "id": "69a3db03",
   "metadata": {},
   "source": [
    "## 📖 Reading and Exploring Dataset"
   ]
  },
  {
   "cell_type": "code",
   "execution_count": null,
   "id": "148ac298",
   "metadata": {
    "slideshow": {
     "slide_type": "-"
    }
   },
   "outputs": [],
   "source": [
    "df = pd.read_csv(\"./data/processed/dataframe_final.csv\")"
   ]
  },
  {
   "cell_type": "markdown",
   "id": "279e47ca",
   "metadata": {},
   "source": [
    "## 🔎 Exploring dataset"
   ]
  },
  {
   "cell_type": "code",
   "execution_count": 46,
   "id": "61505a17",
   "metadata": {},
   "outputs": [
    {
     "data": {
      "text/html": [
       "<div>\n",
       "<style scoped>\n",
       "    .dataframe tbody tr th:only-of-type {\n",
       "        vertical-align: middle;\n",
       "    }\n",
       "\n",
       "    .dataframe tbody tr th {\n",
       "        vertical-align: top;\n",
       "    }\n",
       "\n",
       "    .dataframe thead th {\n",
       "        text-align: right;\n",
       "    }\n",
       "</style>\n",
       "<table border=\"1\" class=\"dataframe\">\n",
       "  <thead>\n",
       "    <tr style=\"text-align: right;\">\n",
       "      <th></th>\n",
       "      <th>User_ID</th>\n",
       "      <th>Product_ID</th>\n",
       "      <th>Purchase</th>\n",
       "      <th>Gender</th>\n",
       "      <th>Age</th>\n",
       "      <th>Occupation</th>\n",
       "      <th>City_Category</th>\n",
       "      <th>Stay_In_Current_City_Years</th>\n",
       "      <th>Marital_Status</th>\n",
       "      <th>Product_Category_1</th>\n",
       "      <th>Product_Category_2</th>\n",
       "      <th>Product_Category_3</th>\n",
       "    </tr>\n",
       "  </thead>\n",
       "  <tbody>\n",
       "    <tr>\n",
       "      <th>0</th>\n",
       "      <td>1000001</td>\n",
       "      <td>P00069042</td>\n",
       "      <td>8370</td>\n",
       "      <td>F</td>\n",
       "      <td>0-17</td>\n",
       "      <td>10</td>\n",
       "      <td>A</td>\n",
       "      <td>2</td>\n",
       "      <td>0</td>\n",
       "      <td>3</td>\n",
       "      <td>NaN</td>\n",
       "      <td>NaN</td>\n",
       "    </tr>\n",
       "    <tr>\n",
       "      <th>1</th>\n",
       "      <td>1000017</td>\n",
       "      <td>P00069042</td>\n",
       "      <td>13591</td>\n",
       "      <td>M</td>\n",
       "      <td>51-55</td>\n",
       "      <td>1</td>\n",
       "      <td>C</td>\n",
       "      <td>0</td>\n",
       "      <td>0</td>\n",
       "      <td>3</td>\n",
       "      <td>NaN</td>\n",
       "      <td>NaN</td>\n",
       "    </tr>\n",
       "    <tr>\n",
       "      <th>2</th>\n",
       "      <td>1000023</td>\n",
       "      <td>P00069042</td>\n",
       "      <td>11022</td>\n",
       "      <td>M</td>\n",
       "      <td>36-45</td>\n",
       "      <td>0</td>\n",
       "      <td>B</td>\n",
       "      <td>3</td>\n",
       "      <td>1</td>\n",
       "      <td>3</td>\n",
       "      <td>NaN</td>\n",
       "      <td>NaN</td>\n",
       "    </tr>\n",
       "    <tr>\n",
       "      <th>3</th>\n",
       "      <td>1000030</td>\n",
       "      <td>P00069042</td>\n",
       "      <td>8036</td>\n",
       "      <td>F</td>\n",
       "      <td>36-45</td>\n",
       "      <td>7</td>\n",
       "      <td>C</td>\n",
       "      <td>3</td>\n",
       "      <td>0</td>\n",
       "      <td>3</td>\n",
       "      <td>NaN</td>\n",
       "      <td>NaN</td>\n",
       "    </tr>\n",
       "    <tr>\n",
       "      <th>4</th>\n",
       "      <td>1000073</td>\n",
       "      <td>P00069042</td>\n",
       "      <td>10885</td>\n",
       "      <td>M</td>\n",
       "      <td>18-25</td>\n",
       "      <td>4</td>\n",
       "      <td>A</td>\n",
       "      <td>4+</td>\n",
       "      <td>0</td>\n",
       "      <td>3</td>\n",
       "      <td>NaN</td>\n",
       "      <td>NaN</td>\n",
       "    </tr>\n",
       "  </tbody>\n",
       "</table>\n",
       "</div>"
      ],
      "text/plain": [
       "   User_ID Product_ID  Purchase Gender    Age  Occupation City_Category  \\\n",
       "0  1000001  P00069042      8370      F   0-17          10             A   \n",
       "1  1000017  P00069042     13591      M  51-55           1             C   \n",
       "2  1000023  P00069042     11022      M  36-45           0             B   \n",
       "3  1000030  P00069042      8036      F  36-45           7             C   \n",
       "4  1000073  P00069042     10885      M  18-25           4             A   \n",
       "\n",
       "  Stay_In_Current_City_Years  Marital_Status  Product_Category_1  \\\n",
       "0                          2               0                   3   \n",
       "1                          0               0                   3   \n",
       "2                          3               1                   3   \n",
       "3                          3               0                   3   \n",
       "4                         4+               0                   3   \n",
       "\n",
       "   Product_Category_2  Product_Category_3  \n",
       "0                 NaN                 NaN  \n",
       "1                 NaN                 NaN  \n",
       "2                 NaN                 NaN  \n",
       "3                 NaN                 NaN  \n",
       "4                 NaN                 NaN  "
      ]
     },
     "execution_count": 46,
     "metadata": {},
     "output_type": "execute_result"
    }
   ],
   "source": [
    "df.head()"
   ]
  },
  {
   "cell_type": "code",
   "execution_count": 13,
   "id": "db17db5d",
   "metadata": {},
   "outputs": [
    {
     "name": "stdout",
     "output_type": "stream",
     "text": [
      "<class 'pandas.core.frame.DataFrame'>\n",
      "RangeIndex: 537577 entries, 0 to 537576\n",
      "Data columns (total 12 columns):\n",
      " #   Column                      Non-Null Count   Dtype  \n",
      "---  ------                      --------------   -----  \n",
      " 0   User_ID                     537577 non-null  int64  \n",
      " 1   Product_ID                  537577 non-null  object \n",
      " 2   Purchase                    537577 non-null  int64  \n",
      " 3   Gender                      537577 non-null  object \n",
      " 4   Age                         537577 non-null  object \n",
      " 5   Occupation                  537577 non-null  int64  \n",
      " 6   City_Category               537577 non-null  object \n",
      " 7   Stay_In_Current_City_Years  537577 non-null  object \n",
      " 8   Marital_Status              537577 non-null  int64  \n",
      " 9   Product_Category_1          537577 non-null  int64  \n",
      " 10  Product_Category_2          370591 non-null  float64\n",
      " 11  Product_Category_3          164278 non-null  float64\n",
      "dtypes: float64(2), int64(5), object(5)\n",
      "memory usage: 49.2+ MB\n"
     ]
    }
   ],
   "source": [
    "df.info()"
   ]
  },
  {
   "cell_type": "code",
   "execution_count": 14,
   "id": "a10961e6",
   "metadata": {},
   "outputs": [
    {
     "data": {
      "text/html": [
       "<div>\n",
       "<style scoped>\n",
       "    .dataframe tbody tr th:only-of-type {\n",
       "        vertical-align: middle;\n",
       "    }\n",
       "\n",
       "    .dataframe tbody tr th {\n",
       "        vertical-align: top;\n",
       "    }\n",
       "\n",
       "    .dataframe thead th {\n",
       "        text-align: right;\n",
       "    }\n",
       "</style>\n",
       "<table border=\"1\" class=\"dataframe\">\n",
       "  <thead>\n",
       "    <tr style=\"text-align: right;\">\n",
       "      <th></th>\n",
       "      <th>User_ID</th>\n",
       "      <th>Purchase</th>\n",
       "      <th>Occupation</th>\n",
       "      <th>Marital_Status</th>\n",
       "      <th>Product_Category_1</th>\n",
       "      <th>Product_Category_2</th>\n",
       "      <th>Product_Category_3</th>\n",
       "    </tr>\n",
       "  </thead>\n",
       "  <tbody>\n",
       "    <tr>\n",
       "      <th>count</th>\n",
       "      <td>5.375770e+05</td>\n",
       "      <td>537577.000000</td>\n",
       "      <td>537577.00000</td>\n",
       "      <td>537577.000000</td>\n",
       "      <td>537577.000000</td>\n",
       "      <td>370591.000000</td>\n",
       "      <td>164278.000000</td>\n",
       "    </tr>\n",
       "    <tr>\n",
       "      <th>mean</th>\n",
       "      <td>1.002992e+06</td>\n",
       "      <td>9333.859853</td>\n",
       "      <td>8.08271</td>\n",
       "      <td>0.408797</td>\n",
       "      <td>5.295546</td>\n",
       "      <td>9.842144</td>\n",
       "      <td>12.669840</td>\n",
       "    </tr>\n",
       "    <tr>\n",
       "      <th>std</th>\n",
       "      <td>1.714393e+03</td>\n",
       "      <td>4981.022133</td>\n",
       "      <td>6.52412</td>\n",
       "      <td>0.491612</td>\n",
       "      <td>3.750701</td>\n",
       "      <td>5.087259</td>\n",
       "      <td>4.124341</td>\n",
       "    </tr>\n",
       "    <tr>\n",
       "      <th>min</th>\n",
       "      <td>1.000001e+06</td>\n",
       "      <td>185.000000</td>\n",
       "      <td>0.00000</td>\n",
       "      <td>0.000000</td>\n",
       "      <td>1.000000</td>\n",
       "      <td>2.000000</td>\n",
       "      <td>3.000000</td>\n",
       "    </tr>\n",
       "    <tr>\n",
       "      <th>25%</th>\n",
       "      <td>1.001495e+06</td>\n",
       "      <td>5866.000000</td>\n",
       "      <td>2.00000</td>\n",
       "      <td>0.000000</td>\n",
       "      <td>1.000000</td>\n",
       "      <td>5.000000</td>\n",
       "      <td>9.000000</td>\n",
       "    </tr>\n",
       "    <tr>\n",
       "      <th>50%</th>\n",
       "      <td>1.003031e+06</td>\n",
       "      <td>8062.000000</td>\n",
       "      <td>7.00000</td>\n",
       "      <td>0.000000</td>\n",
       "      <td>5.000000</td>\n",
       "      <td>9.000000</td>\n",
       "      <td>14.000000</td>\n",
       "    </tr>\n",
       "    <tr>\n",
       "      <th>75%</th>\n",
       "      <td>1.004417e+06</td>\n",
       "      <td>12073.000000</td>\n",
       "      <td>14.00000</td>\n",
       "      <td>1.000000</td>\n",
       "      <td>8.000000</td>\n",
       "      <td>15.000000</td>\n",
       "      <td>16.000000</td>\n",
       "    </tr>\n",
       "    <tr>\n",
       "      <th>max</th>\n",
       "      <td>1.006040e+06</td>\n",
       "      <td>23961.000000</td>\n",
       "      <td>20.00000</td>\n",
       "      <td>1.000000</td>\n",
       "      <td>18.000000</td>\n",
       "      <td>18.000000</td>\n",
       "      <td>18.000000</td>\n",
       "    </tr>\n",
       "  </tbody>\n",
       "</table>\n",
       "</div>"
      ],
      "text/plain": [
       "            User_ID       Purchase    Occupation  Marital_Status  \\\n",
       "count  5.375770e+05  537577.000000  537577.00000   537577.000000   \n",
       "mean   1.002992e+06    9333.859853       8.08271        0.408797   \n",
       "std    1.714393e+03    4981.022133       6.52412        0.491612   \n",
       "min    1.000001e+06     185.000000       0.00000        0.000000   \n",
       "25%    1.001495e+06    5866.000000       2.00000        0.000000   \n",
       "50%    1.003031e+06    8062.000000       7.00000        0.000000   \n",
       "75%    1.004417e+06   12073.000000      14.00000        1.000000   \n",
       "max    1.006040e+06   23961.000000      20.00000        1.000000   \n",
       "\n",
       "       Product_Category_1  Product_Category_2  Product_Category_3  \n",
       "count       537577.000000       370591.000000       164278.000000  \n",
       "mean             5.295546            9.842144           12.669840  \n",
       "std              3.750701            5.087259            4.124341  \n",
       "min              1.000000            2.000000            3.000000  \n",
       "25%              1.000000            5.000000            9.000000  \n",
       "50%              5.000000            9.000000           14.000000  \n",
       "75%              8.000000           15.000000           16.000000  \n",
       "max             18.000000           18.000000           18.000000  "
      ]
     },
     "execution_count": 14,
     "metadata": {},
     "output_type": "execute_result"
    }
   ],
   "source": [
    "df.describe()"
   ]
  },
  {
   "cell_type": "markdown",
   "id": "6b0ed1ca",
   "metadata": {},
   "source": [
    "Product categories are in different types. Considering Categories 2 and 3 have some NaN values, the 3 columns will be converted to ```Int64``` type - which can store the records as integers and still have NaN values."
   ]
  },
  {
   "cell_type": "code",
   "execution_count": 15,
   "id": "687de92e",
   "metadata": {},
   "outputs": [],
   "source": [
    "df[\"Product_Category_1\"] = df[\"Product_Category_1\"].astype(\"Int64\")\n",
    "df[\"Product_Category_2\"] = df[\"Product_Category_2\"].astype(\"Int64\")\n",
    "df[\"Product_Category_3\"] = df[\"Product_Category_3\"].astype(\"Int64\")"
   ]
  },
  {
   "cell_type": "markdown",
   "id": "b7a03fa4",
   "metadata": {
    "slideshow": {
     "slide_type": "slide"
    }
   },
   "source": [
    "## 🔍 Marital Status and average purchase value and category\n",
    "\n",
    "#### 1. Analyzing variables \"Purchase\" and \"Marital Status\"\n",
    "\n",
    "- Purchase: quantitative (continuous) variable. Represents the total amount (in currency) spent in the purchase record.\n",
    "- Marital Status: qualitative (nominal) variable. \"0\" represents single and \"1\" represents married.\n",
    "\n",
    "#### 2. Choosing analysis method.\n",
    "\n",
    "Observing normality for the quantitative variable:"
   ]
  },
  {
   "cell_type": "code",
   "execution_count": 3,
   "id": "ac566053",
   "metadata": {
    "slideshow": {
     "slide_type": "-"
    }
   },
   "outputs": [
    {
     "data": {
      "text/plain": [
       "<AxesSubplot:xlabel='Purchase', ylabel='Count'>"
      ]
     },
     "execution_count": 3,
     "metadata": {},
     "output_type": "execute_result"
    },
    {
     "data": {
      "image/png": "[encoded data removed]",
      "text/plain": [
       "<Figure size 432x288 with 1 Axes>"
      ]
     },
     "metadata": {
      "needs_background": "light"
     },
     "output_type": "display_data"
    }
   ],
   "source": [
    "sns.histplot(df[\"Purchase\"], bins=20, kde=True)"
   ]
  },
  {
   "cell_type": "markdown",
   "id": "7cabfae3",
   "metadata": {},
   "source": [
    "The visualization does not indicate a normal distribution.\n",
    "\n",
    "For this particular case - qualitative (nominal) variable x quantitative (continuous) variable) - the boxplot is the chosen tool to check for a correlation. \n",
    "\n",
    "#### 3. Correlation Analysis."
   ]
  },
  {
   "cell_type": "code",
   "execution_count": 17,
   "id": "15ff0a71",
   "metadata": {},
   "outputs": [
    {
     "data": {
      "image/png": "[encoded data removed]",
      "text/plain": [
       "<Figure size 576x432 with 1 Axes>"
      ]
     },
     "metadata": {
      "needs_background": "light"
     },
     "output_type": "display_data"
    }
   ],
   "source": [
    "fig, ax = plt.subplots(figsize=(8, 6))\n",
    "fig = sns.boxplot(x=\"Marital_Status\", y=\"Purchase\", data=df)"
   ]
  },
  {
   "cell_type": "markdown",
   "id": "c0c4370b",
   "metadata": {},
   "source": [
    "#### 4. Conclusion.\n",
    "\n",
    "The Boxplot for the different marital status are very similar and it **does not indicate any correlation**."
   ]
  },
  {
   "cell_type": "markdown",
   "id": "cf18e1c3",
   "metadata": {
    "slideshow": {
     "slide_type": "slide"
    }
   },
   "source": [
    "### Marital status influence in the purchase category\n",
    "\n",
    "#### 1. Analyzing variables \"Marital Status\" and \"Product_Category_X\".\n",
    "\n",
    "- Marital Status: qualitative (nominal) variable. \"0\" represents single and \"1\" represents married.\n",
    "- Product_Category_X: qualitative (nominal) variables. Despite being represented as integers, they represent a category of which a product may belong to.\n",
    "\n",
    "#### 2. Choosing analysis method.\n",
    "\n",
    "For these two qualitative norminal variables, Frequency Table and Barplot are the chosen tools.\n",
    "\n",
    "#### 3. Correlation Analysis."
   ]
  },
  {
   "cell_type": "code",
   "execution_count": 32,
   "id": "0d6c2b60",
   "metadata": {
    "scrolled": true
   },
   "outputs": [
    {
     "data": {
      "text/html": [
       "<div>\n",
       "<style scoped>\n",
       "    .dataframe tbody tr th:only-of-type {\n",
       "        vertical-align: middle;\n",
       "    }\n",
       "\n",
       "    .dataframe tbody tr th {\n",
       "        vertical-align: top;\n",
       "    }\n",
       "\n",
       "    .dataframe thead th {\n",
       "        text-align: right;\n",
       "    }\n",
       "</style>\n",
       "<table border=\"1\" class=\"dataframe\">\n",
       "  <thead>\n",
       "    <tr style=\"text-align: right;\">\n",
       "      <th>Product_Category</th>\n",
       "      <th>1</th>\n",
       "      <th>2</th>\n",
       "      <th>3</th>\n",
       "      <th>4</th>\n",
       "      <th>5</th>\n",
       "      <th>6</th>\n",
       "      <th>7</th>\n",
       "      <th>8</th>\n",
       "      <th>9</th>\n",
       "      <th>10</th>\n",
       "      <th>11</th>\n",
       "      <th>12</th>\n",
       "      <th>13</th>\n",
       "      <th>14</th>\n",
       "      <th>15</th>\n",
       "      <th>16</th>\n",
       "      <th>17</th>\n",
       "      <th>18</th>\n",
       "    </tr>\n",
       "    <tr>\n",
       "      <th>Marital_Status</th>\n",
       "      <th></th>\n",
       "      <th></th>\n",
       "      <th></th>\n",
       "      <th></th>\n",
       "      <th></th>\n",
       "      <th></th>\n",
       "      <th></th>\n",
       "      <th></th>\n",
       "      <th></th>\n",
       "      <th></th>\n",
       "      <th></th>\n",
       "      <th></th>\n",
       "      <th></th>\n",
       "      <th></th>\n",
       "      <th></th>\n",
       "      <th></th>\n",
       "      <th></th>\n",
       "      <th></th>\n",
       "    </tr>\n",
       "  </thead>\n",
       "  <tbody>\n",
       "    <tr>\n",
       "      <th>0</th>\n",
       "      <td>13.08</td>\n",
       "      <td>6.82</td>\n",
       "      <td>2.25</td>\n",
       "      <td>3.74</td>\n",
       "      <td>17.95</td>\n",
       "      <td>3.88</td>\n",
       "      <td>0.37</td>\n",
       "      <td>17.06</td>\n",
       "      <td>1.68</td>\n",
       "      <td>0.83</td>\n",
       "      <td>3.78</td>\n",
       "      <td>1.66</td>\n",
       "      <td>1.92</td>\n",
       "      <td>6.8</td>\n",
       "      <td>6.62</td>\n",
       "      <td>7.94</td>\n",
       "      <td>2.71</td>\n",
       "      <td>0.91</td>\n",
       "    </tr>\n",
       "    <tr>\n",
       "      <th>1</th>\n",
       "      <td>12.64</td>\n",
       "      <td>6.55</td>\n",
       "      <td>2.06</td>\n",
       "      <td>3.40</td>\n",
       "      <td>17.57</td>\n",
       "      <td>3.79</td>\n",
       "      <td>0.44</td>\n",
       "      <td>18.12</td>\n",
       "      <td>1.54</td>\n",
       "      <td>1.01</td>\n",
       "      <td>3.58</td>\n",
       "      <td>1.79</td>\n",
       "      <td>2.06</td>\n",
       "      <td>7.0</td>\n",
       "      <td>6.65</td>\n",
       "      <td>7.78</td>\n",
       "      <td>2.96</td>\n",
       "      <td>1.05</td>\n",
       "    </tr>\n",
       "  </tbody>\n",
       "</table>\n",
       "</div>"
      ],
      "text/plain": [
       "Product_Category     1     2     3     4      5     6     7      8     9   \\\n",
       "Marital_Status                                                              \n",
       "0                 13.08  6.82  2.25  3.74  17.95  3.88  0.37  17.06  1.68   \n",
       "1                 12.64  6.55  2.06  3.40  17.57  3.79  0.44  18.12  1.54   \n",
       "\n",
       "Product_Category    10    11    12    13   14    15    16    17    18  \n",
       "Marital_Status                                                         \n",
       "0                 0.83  3.78  1.66  1.92  6.8  6.62  7.94  2.71  0.91  \n",
       "1                 1.01  3.58  1.79  2.06  7.0  6.65  7.78  2.96  1.05  "
      ]
     },
     "execution_count": 32,
     "metadata": {},
     "output_type": "execute_result"
    }
   ],
   "source": [
    "# Saving a Dataframe with only desired data to a variable\n",
    "df_categories = df[\n",
    "    [\"Marital_Status\", \"Product_Category_1\", \"Product_Category_2\", \"Product_Category_3\"]\n",
    "]\n",
    "\n",
    "df_melted_categories = df_categories.melt(id_vars=\"Marital_Status\")\n",
    "df_melted_categories.rename(\n",
    "    {\"value\": \"Product_Category\", \"variable\": \"Variable\"}, axis=1, inplace=True\n",
    ")\n",
    "\n",
    "df_crosstab = pd.crosstab(\n",
    "    index=df_melted_categories[\"Marital_Status\"],\n",
    "    columns=df_melted_categories[\"Product_Category\"],\n",
    "    normalize=\"index\",\n",
    ")  # Normalizing Crosstab per Marital Status\n",
    "\n",
    "# Showing percentage\n",
    "(df_crosstab * 100).round(2)"
   ]
  },
  {
   "cell_type": "code",
   "execution_count": 8,
   "id": "8ce5bd61",
   "metadata": {
    "scrolled": false,
    "slideshow": {
     "slide_type": "-"
    }
   },
   "outputs": [
    {
     "data": {
      "text/plain": [
       "<matplotlib.legend.Legend at 0x7fbe573b45e0>"
      ]
     },
     "execution_count": 8,
     "metadata": {},
     "output_type": "execute_result"
    },
    {
     "data": {
      "image/png": "[encoded data removed]",
      "text/plain": [
       "<Figure size 1152x432 with 1 Axes>"
      ]
     },
     "metadata": {
      "needs_background": "light"
     },
     "output_type": "display_data"
    }
   ],
   "source": [
    "X = list(df_crosstab.columns)\n",
    "Y0 = list(df_crosstab.iloc[0].values)\n",
    "Y1 = list(df_crosstab.iloc[1].values)\n",
    "X_axis = np.arange(len(X))\n",
    "\n",
    "fig, ax = plt.subplots(figsize=(16, 6))\n",
    "\n",
    "rects1 = ax.bar(X_axis - 0.2, Y0, 0.4, label=\"0\")\n",
    "rects2 = ax.bar(X_axis + 0.2, Y1, 0.4, label=\"1\")\n",
    "\n",
    "for chart in (rects1, rects2):\n",
    "    for rect in chart:\n",
    "        height = rect.get_height()\n",
    "        ax.annotate(\n",
    "            f\"{height:.2f}\",\n",
    "            xy=(rect.get_x() + rect.get_width() / 2, height),\n",
    "            xytext=(0, 3),\n",
    "            fontsize=8,\n",
    "            textcoords=\"offset points\",\n",
    "            ha=\"center\",\n",
    "            va=\"bottom\",\n",
    "        )\n",
    "\n",
    "ax.set_xticks(X_axis)\n",
    "ax.set_xticklabels(X)\n",
    "ax.set_xlabel(\"Products_Categories\")\n",
    "ax.set_ylabel(\"Count of this Category/Total Count (%)\")\n",
    "ax.legend()"
   ]
  },
  {
   "cell_type": "markdown",
   "id": "e89072e3",
   "metadata": {},
   "source": [
    "#### 4. Conclusion.\n",
    "\n",
    "The visualizations indicates the two Marital Status have pretty similar behavior when it comes to purchases and categories. Highlights:\n",
    "\n",
    "- Categories 1, 5 e 8 represent 48% of the products to both marital status.\n",
    "- The highest absolute difference is in category 8: 1,06 b.p.\n",
    "- The highest absolute relative is in category 10: 22%."
   ]
  },
  {
   "cell_type": "markdown",
   "id": "de8e5c35",
   "metadata": {
    "slideshow": {
     "slide_type": "slide"
    }
   },
   "source": [
    "### If one wants to sell more products of category 14, should one invest more in publicity for marital status 0 or 1?"
   ]
  },
  {
   "cell_type": "code",
   "execution_count": 35,
   "id": "72cced48",
   "metadata": {},
   "outputs": [
    {
     "name": "stdout",
     "output_type": "stream",
     "text": [
      "Purchases of category 14:\n",
      "Marital_Status\n",
      "0    43271\n",
      "1    30508\n",
      "Name: 14, dtype: int64\n",
      "\n",
      "Average purchase value of category 14:\n",
      "Marital_Status\n",
      "0    343916804\n",
      "1    242855346\n",
      "Name: Purchase, dtype: int64\n"
     ]
    }
   ],
   "source": [
    "# Filtering sales of category 14\n",
    "filtro_categoria14 = (\n",
    "    (df[\"Product_Category_1\"] == 14)\n",
    "    | (df[\"Product_Category_2\"] == 14)\n",
    "    | (df[\"Product_Category_3\"] == 14)\n",
    ")\n",
    "\n",
    "print(\"Purchases of category 14:\")\n",
    "print(\n",
    "    pd.crosstab(\n",
    "        index=df_melted_categories[\"Marital_Status\"],\n",
    "        columns=df_melted_categories[\"Product_Category\"],\n",
    "    )[14]\n",
    ")\n",
    "\n",
    "print(\"\\Total purchase value of category 14:\")\n",
    "print(df[filtro_categoria14].groupby(by=\"Marital_Status\")[\"Purchase\"].sum())"
   ]
  },
  {
   "cell_type": "code",
   "execution_count": 37,
   "id": "22117d15",
   "metadata": {},
   "outputs": [
    {
     "name": "stdout",
     "output_type": "stream",
     "text": [
      "Overall number of purchases:\n",
      "Marital_Status\n",
      "0    317817\n",
      "1    219760\n",
      "Name: Purchase, dtype: int64\n",
      "\n",
      "Overall total purchase value:\n",
      "Marital_Status\n",
      "0    2966289500\n",
      "1    2051378878\n",
      "Name: Purchase, dtype: int64\n"
     ]
    }
   ],
   "source": [
    "print(\"Overall number of purchases:\")\n",
    "print(df.groupby(by=\"Marital_Status\")[\"Purchase\"].count())\n",
    "\n",
    "print(\"\\nOverall total purchase value:\")\n",
    "print(df.groupby(by=\"Marital_Status\")[\"Purchase\"].sum())"
   ]
  },
  {
   "cell_type": "markdown",
   "id": "2134dd10",
   "metadata": {},
   "source": [
    "#### Summarizing\n",
    "\n",
    "**Marital Status \"0\":**\n",
    "- Made 317.817 purchases:\n",
    "    - From these purchases, 43.271 had a product from category 14. Representing 13,6% of the total purchases.\n",
    "- Spent R\\$ 2.966.289.500,00:\n",
    "    - From This value, R\\$ 343.916.804,00 was spent in products of category 14. That represent 11,59% of the spent total.\n",
    "    \n",
    "**Marital Status \"1\":**\n",
    "- Made 219.760 purchases:\n",
    "    - From these purchases, 30.508 had a product from category 14. Representing 13,9% of the total purchases.\n",
    "- Spent R\\$ 2.051.378.878,00:\n",
    "    - From This value, R\\$ 242.855.346,00 was spent in products of category 14. That represent 11,83% of the spent total.\n",
    "    \n",
    "#### Regards\n",
    "\n",
    "**Overall, none of these groups presented itself as a clear target audience for products from category 14.**\n",
    "\n",
    "If one would like to take advantage of the subtle behavior differences, we can consider that marital status \"0\" made more purchases and spent more money. The publicity could be directed to:\n",
    "- Sales closing for marital status \"0\", since this group is more willing to buy this category (and overral products).\n",
    "- Product awareness for marital status \"1\", which is less present in this category.\n",
    "\n",
    "Fot a data-driven final decision, more questions must be analyzed and answered:\n",
    "\n",
    "- What is our market-share for each group?\n",
    "- What is the click and awareness cost for each group?\n",
    "- What is the conversion percentage in the sales funnel for each group?\n",
    "- What is the customer retetion rate and behavior for each group?"
   ]
  },
  {
   "cell_type": "markdown",
   "id": "415be4a1",
   "metadata": {
    "slideshow": {
     "slide_type": "slide"
    }
   },
   "source": [
    "## 🔍 Influence in the value of the purchase\n",
    "\n",
    "### Question 1: Which variables are correlated to the value of the purchase?\n",
    "\n",
    "#### 1. Analyzing all variables.\n",
    "\n",
    "Disregarded variables:\n",
    "- Marital_Status: analyzed in the analysis above.\n",
    "- Gender: qualitative (nominal) variable.\n",
    "- Age: qualitative (ordinal) variable.\n",
    "- Occupation: qualitative (nominal) variable.\n",
    "- Stay_In_Current_City_Years: qualitative (ordinal) variable.\n",
    "- Product Category (1): qualitative (nominal) variable.\n",
    "\n",
    "- Product_ID: an unique ID for each product.\n",
    "\n",
    "#### 2. Choosing analysis method.\n",
    "\n",
    "For the qualitative variables, the same tool from the previous analysis will be used: the Boxplot.\n",
    "\n",
    "Product_ID variable will be grouped and analyzed by its behaviour.\n",
    "\n",
    "#### 3. Correlation Analysis."
   ]
  },
  {
   "cell_type": "code",
   "execution_count": 40,
   "id": "ca67f8f4",
   "metadata": {
    "scrolled": false
   },
   "outputs": [
    {
     "data": {
      "image/png": "[encoded data removed]",
      "text/plain": [
       "<Figure size 1296x1296 with 6 Axes>"
      ]
     },
     "metadata": {
      "needs_background": "light"
     },
     "output_type": "display_data"
    }
   ],
   "source": [
    "fig, ((ax1, ax2), (ax3, ax4), (ax5, ax6)) = plt.subplots(\n",
    "    nrows=3, ncols=2, figsize=(18, 18)\n",
    ")\n",
    "\n",
    "# Gender\n",
    "sns.boxplot(ax=ax1, x=\"Gender\", y=\"Purchase\", data=df)\n",
    "ax1.set_title(\"Boxplot of Gender x Purchase Value\")\n",
    "\n",
    "# Age\n",
    "sns.boxplot(ax=ax2, x=\"Age\", y=\"Purchase\", data=df)\n",
    "ax2.set_title(\"Boxplot of Age x Purchase Value\")\n",
    "\n",
    "# Occupation\n",
    "sns.boxplot(ax=ax3, x=\"Occupation\", y=\"Purchase\", data=df)\n",
    "ax3.set_title(\"Boxplot of Occupation x Purchase Value\")\n",
    "\n",
    "# City_Category\n",
    "sns.boxplot(ax=ax4, x=\"City_Category\", y=\"Purchase\", data=df)\n",
    "ax4.set_title(\"Boxplot of City Category x Purchase Value\")\n",
    "\n",
    "# Stay_In_Current_City_Years\n",
    "sns.boxplot(ax=ax5, x=\"Stay_In_Current_City_Years\", y=\"Purchase\", data=df)\n",
    "ax5.set_title(\"Boxplot of Years Living in Current City x Purchase Value\")\n",
    "\n",
    "# Product_Category_1\n",
    "sns.boxplot(ax=ax6, x=\"Product_Category_1\", y=\"Purchase\", data=df)\n",
    "ax6.set_title(\"Boxplot of Main Product Category x Purchase Value\")\n",
    "\n",
    "plt.show()"
   ]
  },
  {
   "cell_type": "code",
   "execution_count": 43,
   "id": "2afb2740",
   "metadata": {},
   "outputs": [
    {
     "data": {
      "text/html": [
       "<div>\n",
       "<style scoped>\n",
       "    .dataframe tbody tr th:only-of-type {\n",
       "        vertical-align: middle;\n",
       "    }\n",
       "\n",
       "    .dataframe tbody tr th {\n",
       "        vertical-align: top;\n",
       "    }\n",
       "\n",
       "    .dataframe thead th {\n",
       "        text-align: right;\n",
       "    }\n",
       "</style>\n",
       "<table border=\"1\" class=\"dataframe\">\n",
       "  <thead>\n",
       "    <tr style=\"text-align: right;\">\n",
       "      <th></th>\n",
       "      <th>count</th>\n",
       "      <th>mean</th>\n",
       "      <th>std</th>\n",
       "      <th>min</th>\n",
       "      <th>25%</th>\n",
       "      <th>50%</th>\n",
       "      <th>75%</th>\n",
       "      <th>max</th>\n",
       "      <th>range</th>\n",
       "    </tr>\n",
       "    <tr>\n",
       "      <th>Product_ID</th>\n",
       "      <th></th>\n",
       "      <th></th>\n",
       "      <th></th>\n",
       "      <th></th>\n",
       "      <th></th>\n",
       "      <th></th>\n",
       "      <th></th>\n",
       "      <th></th>\n",
       "      <th></th>\n",
       "    </tr>\n",
       "  </thead>\n",
       "  <tbody>\n",
       "    <tr>\n",
       "      <th>P00000142</th>\n",
       "      <td>1130.0</td>\n",
       "      <td>11143.507080</td>\n",
       "      <td>2307.942795</td>\n",
       "      <td>2725.0</td>\n",
       "      <td>10591.25</td>\n",
       "      <td>10925.5</td>\n",
       "      <td>13380.00</td>\n",
       "      <td>13716.0</td>\n",
       "      <td>10991.0</td>\n",
       "    </tr>\n",
       "    <tr>\n",
       "      <th>P00000242</th>\n",
       "      <td>371.0</td>\n",
       "      <td>10552.293801</td>\n",
       "      <td>3179.231273</td>\n",
       "      <td>3214.0</td>\n",
       "      <td>9585.00</td>\n",
       "      <td>10023.0</td>\n",
       "      <td>13025.00</td>\n",
       "      <td>16503.0</td>\n",
       "      <td>13289.0</td>\n",
       "    </tr>\n",
       "    <tr>\n",
       "      <th>P00000342</th>\n",
       "      <td>238.0</td>\n",
       "      <td>5299.928571</td>\n",
       "      <td>1834.617830</td>\n",
       "      <td>1727.0</td>\n",
       "      <td>3692.25</td>\n",
       "      <td>5286.5</td>\n",
       "      <td>6928.00</td>\n",
       "      <td>8896.0</td>\n",
       "      <td>7169.0</td>\n",
       "    </tr>\n",
       "    <tr>\n",
       "      <th>P00000442</th>\n",
       "      <td>92.0</td>\n",
       "      <td>4795.358696</td>\n",
       "      <td>1664.088125</td>\n",
       "      <td>1764.0</td>\n",
       "      <td>3599.75</td>\n",
       "      <td>5194.0</td>\n",
       "      <td>5394.75</td>\n",
       "      <td>8891.0</td>\n",
       "      <td>7127.0</td>\n",
       "    </tr>\n",
       "    <tr>\n",
       "      <th>P00000542</th>\n",
       "      <td>146.0</td>\n",
       "      <td>5419.308219</td>\n",
       "      <td>1742.058891</td>\n",
       "      <td>1730.0</td>\n",
       "      <td>3748.50</td>\n",
       "      <td>5375.0</td>\n",
       "      <td>6966.25</td>\n",
       "      <td>8903.0</td>\n",
       "      <td>7173.0</td>\n",
       "    </tr>\n",
       "    <tr>\n",
       "      <th>...</th>\n",
       "      <td>...</td>\n",
       "      <td>...</td>\n",
       "      <td>...</td>\n",
       "      <td>...</td>\n",
       "      <td>...</td>\n",
       "      <td>...</td>\n",
       "      <td>...</td>\n",
       "      <td>...</td>\n",
       "      <td>...</td>\n",
       "    </tr>\n",
       "    <tr>\n",
       "      <th>P0099442</th>\n",
       "      <td>196.0</td>\n",
       "      <td>14353.642857</td>\n",
       "      <td>3716.564096</td>\n",
       "      <td>4093.0</td>\n",
       "      <td>12189.00</td>\n",
       "      <td>16007.5</td>\n",
       "      <td>16411.75</td>\n",
       "      <td>20684.0</td>\n",
       "      <td>16591.0</td>\n",
       "    </tr>\n",
       "    <tr>\n",
       "      <th>P0099642</th>\n",
       "      <td>13.0</td>\n",
       "      <td>6439.230769</td>\n",
       "      <td>2108.412442</td>\n",
       "      <td>3903.0</td>\n",
       "      <td>4222.00</td>\n",
       "      <td>5972.0</td>\n",
       "      <td>7862.00</td>\n",
       "      <td>10056.0</td>\n",
       "      <td>6153.0</td>\n",
       "    </tr>\n",
       "    <tr>\n",
       "      <th>P0099742</th>\n",
       "      <td>123.0</td>\n",
       "      <td>7862.373984</td>\n",
       "      <td>2936.961342</td>\n",
       "      <td>2670.0</td>\n",
       "      <td>5589.00</td>\n",
       "      <td>8185.0</td>\n",
       "      <td>10632.50</td>\n",
       "      <td>13661.0</td>\n",
       "      <td>10991.0</td>\n",
       "    </tr>\n",
       "    <tr>\n",
       "      <th>P0099842</th>\n",
       "      <td>100.0</td>\n",
       "      <td>7213.340000</td>\n",
       "      <td>1635.575167</td>\n",
       "      <td>1735.0</td>\n",
       "      <td>6923.75</td>\n",
       "      <td>7129.0</td>\n",
       "      <td>8664.25</td>\n",
       "      <td>8891.0</td>\n",
       "      <td>7156.0</td>\n",
       "    </tr>\n",
       "    <tr>\n",
       "      <th>P0099942</th>\n",
       "      <td>13.0</td>\n",
       "      <td>5449.461538</td>\n",
       "      <td>2035.519410</td>\n",
       "      <td>1791.0</td>\n",
       "      <td>5190.00</td>\n",
       "      <td>5356.0</td>\n",
       "      <td>6928.00</td>\n",
       "      <td>8833.0</td>\n",
       "      <td>7042.0</td>\n",
       "    </tr>\n",
       "  </tbody>\n",
       "</table>\n",
       "<p>3623 rows × 9 columns</p>\n",
       "</div>"
      ],
      "text/plain": [
       "             count          mean          std     min       25%      50%  \\\n",
       "Product_ID                                                                 \n",
       "P00000142   1130.0  11143.507080  2307.942795  2725.0  10591.25  10925.5   \n",
       "P00000242    371.0  10552.293801  3179.231273  3214.0   9585.00  10023.0   \n",
       "P00000342    238.0   5299.928571  1834.617830  1727.0   3692.25   5286.5   \n",
       "P00000442     92.0   4795.358696  1664.088125  1764.0   3599.75   5194.0   \n",
       "P00000542    146.0   5419.308219  1742.058891  1730.0   3748.50   5375.0   \n",
       "...            ...           ...          ...     ...       ...      ...   \n",
       "P0099442     196.0  14353.642857  3716.564096  4093.0  12189.00  16007.5   \n",
       "P0099642      13.0   6439.230769  2108.412442  3903.0   4222.00   5972.0   \n",
       "P0099742     123.0   7862.373984  2936.961342  2670.0   5589.00   8185.0   \n",
       "P0099842     100.0   7213.340000  1635.575167  1735.0   6923.75   7129.0   \n",
       "P0099942      13.0   5449.461538  2035.519410  1791.0   5190.00   5356.0   \n",
       "\n",
       "                 75%      max    range  \n",
       "Product_ID                              \n",
       "P00000142   13380.00  13716.0  10991.0  \n",
       "P00000242   13025.00  16503.0  13289.0  \n",
       "P00000342    6928.00   8896.0   7169.0  \n",
       "P00000442    5394.75   8891.0   7127.0  \n",
       "P00000542    6966.25   8903.0   7173.0  \n",
       "...              ...      ...      ...  \n",
       "P0099442    16411.75  20684.0  16591.0  \n",
       "P0099642     7862.00  10056.0   6153.0  \n",
       "P0099742    10632.50  13661.0  10991.0  \n",
       "P0099842     8664.25   8891.0   7156.0  \n",
       "P0099942     6928.00   8833.0   7042.0  \n",
       "\n",
       "[3623 rows x 9 columns]"
      ]
     },
     "execution_count": 43,
     "metadata": {},
     "output_type": "execute_result"
    }
   ],
   "source": [
    "# Product_ID\n",
    "df_product_ID = df.groupby(by=[\"Product_ID\"])[\"Purchase\"].describe()\n",
    "\n",
    "# Including Range\n",
    "df_product_ID[\"range\"] = np.abs(df_product_ID[\"max\"] - df_product_ID[\"min\"])\n",
    "\n",
    "df_product_ID"
   ]
  },
  {
   "cell_type": "markdown",
   "id": "4d2478ab",
   "metadata": {},
   "source": [
    "#### 4. Conlcusion.\n",
    "\n",
    "**Product ID**\n",
    "\n",
    "- Some products were sold with a long range of difference in values. Different sales strategies might be directed to users that bought values on maximum and minimum values.\n",
    "\n",
    "**Qualitative Variables**\n",
    "\n",
    "No correlation found:\n",
    "- Stay_In_Current_City_Years.\n",
    "\n",
    "Small indication of correlation:\n",
    "- Gender: males had a slightly higher concentration of purchase value.\n",
    "- Age: indicates that as the age rises, so does the purchase value. 51-55 category presented the highest concentration of purchase value.\n",
    "- Occupation: \"12\", \"15\" and \"17\" had superior values and \"9\" and \"10\" inferior values.\n",
    "- City_Category: \"C\" had a slightly higher concentration of purchase value.\n",
    "\n",
    "Relevant indication of correlation:\n",
    "- Product_Category: the category have a hight impact in the purchase value and each category has a behavior/range. Category \"10\" had the highest value and \"13\" had the smallets."
   ]
  }
 ],
 "metadata": {
  "kernelspec": {
   "display_name": "Python 3 (ipykernel)",
   "language": "python",
   "name": "python3"
  },
  "language_info": {
   "codemirror_mode": {
    "name": "ipython",
    "version": 3
   },
   "file_extension": ".py",
   "mimetype": "text/x-python",
   "name": "python",
   "nbconvert_exporter": "python",
   "pygments_lexer": "ipython3",
   "version": "3.8.12"
  },
  "toc": {
   "base_numbering": 1,
   "nav_menu": {},
   "number_sections": false,
   "sideBar": true,
   "skip_h1_title": false,
   "title_cell": "Table of Contents",
   "title_sidebar": "Contents",
   "toc_cell": false,
   "toc_position": {},
   "toc_section_display": true,
   "toc_window_display": false
  },
  "varInspector": {
   "cols": {
    "lenName": 16,
    "lenType": 16,
    "lenVar": 40
   },
   "kernels_config": {
    "python": {
     "delete_cmd_postfix": "",
     "delete_cmd_prefix": "del ",
     "library": "var_list.py",
     "varRefreshCmd": "print(var_dic_list())"
    },
    "r": {
     "delete_cmd_postfix": ") ",
     "delete_cmd_prefix": "rm(",
     "library": "var_list.r",
     "varRefreshCmd": "cat(var_dic_list()) "
    }
   },
   "types_to_exclude": [
    "module",
    "function",
    "builtin_function_or_method",
    "instance",
    "_Feature"
   ],
   "window_display": false
  }
 },
 "nbformat": 4,
 "nbformat_minor": 5
}
